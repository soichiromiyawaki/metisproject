import numpy as np 
import pandas as pd 

#Import Data
movie_titles = pd.read_csv("../input/netflix-prize-data/movie_titles.csv",names= ['MovieID','YearOfRelease','Title'],encoding = "ISO-8859-1")

#Check the dataframe
movie_titles.head()

movie_titles.shape
#->(17770, 3)

movie_titles.YearOfRelease.isnull().sum()
movie_titles[movie_titles.YearOfRelease.isnull()] #Pick up rows have null

#Search the year of files on google and fill them 
null_index = [4387,4793,7240,10781,15917,16677,17666]
yearOfmovie = [2001,2001,1994,1974,1999,1994,1999]
for i in range(0,7):
    movie_titles.iloc[null_index[i], 1] = yearOfmovie[i]
    
#Change YearOfRelease type from float to int
movie_titles["YearOfRelease"] = movie_titles.YearOfRelease.astype('int')
