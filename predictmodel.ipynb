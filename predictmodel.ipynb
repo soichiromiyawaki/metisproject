import numpy as np 
import pandas as pd 

#Import Data
movie_titles = pd.read_csv("../input/netflix-prize-data/movie_titles.csv",names= ['MovieID','YearOfRelease','Title'],encoding = "ISO-8859-1")

#Check the dataframe
movie_titles.head()

movie_titles.shape
#->(17770, 3)

movie_titles.YearOfRelease.isnull().sum()
movie_titles[movie_titles.YearOfRelease.isnull()] #Pick up rows have null

#Search the year of files on google and fill them 
null_index = [4387,4793,7240,10781,15917,16677,17666]
yearOfmovie = [2001,2001,1994,1974,1999,1994,1999]
for i in range(0,7):
    movie_titles.iloc[null_index[i], 1] = yearOfmovie[i]
    
#Change YearOfRelease type from float to int
movie_titles["YearOfRelease"] = movie_titles.YearOfRelease.astype('int')

#Read combined_data_1
combined_data_1 = pd.read_table('/kaggle/input/netflix-prize-data/combined_data_1.txt',sep=',', names=['CustomerID','Rating','Date'])

#Get the index of rows which have MovieID
index_pandas = combined_data_1[combined_data_1.Rating.isnull()].index
#Change the type to list
index_list = list(index_pandas)

#I reflect the MovieID on new column "MovieID"
list_index = index_list
df_last_index = len(combined_data_1)-1
list_index.append(df_last_index)
movie_id = 1
list_empty =[]

for n in range(len(list_index)):
    #index4997 ~ index4998 
    if n==len(list_index)-3:
        index1 = list_index[n]
        index2 = list_index[n+1]
    
        for times_num in range(index1,index2):
            list_empty.append(movie_id)
        movie_id +=1

    #index0 ~ index4997 
    if n<len(list_index)-3:
        index1 = list_index[n]
        index2 = list_index[n+1]
    
        for times_num in range(index1,index2):
            list_empty.append(movie_id)
        movie_id +=1
    #index4999
    if n==len(list_index)-2:
  
        index1 = list_index[n]
        index2 = list_index[n+1]
    
        for times_num in range(index1,index2+1):
            list_empty.append(movie_id)

combined_data_1["MovieID"] = list_empty
